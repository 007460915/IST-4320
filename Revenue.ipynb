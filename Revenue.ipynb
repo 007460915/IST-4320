{
 "cells": [
  {
   "cell_type": "code",
   "execution_count": 9,
   "id": "df34fce5-5163-4237-9998-0e3a42e0cd6e",
   "metadata": {},
   "outputs": [
    {
     "name": "stdout",
     "output_type": "stream",
     "text": [
      "Number of prodcuts sold:  4\n",
      "Total Revenue:  $ 34250\n"
     ]
    }
   ],
   "source": [
    "products = ['Cell Phone', 'TV', 'Car', 'Sunglasses']\n",
    "count = 0  \n",
    "for product in products:  \n",
    "    count = count + 1\n",
    "print('Number of prodcuts sold: ', count)\n",
    "\n",
    "revenue = [1200, 800, 32000, 250]\n",
    "total = 0\n",
    "for amount in revenue: \n",
    "    total = total + amount\n",
    "print('Total Revenue: ', '$',total)"
   ]
  },
  {
   "cell_type": "code",
   "execution_count": null,
   "id": "8fdef8d7-8d86-4a4b-b6d8-eb3e7752ca6c",
   "metadata": {},
   "outputs": [],
   "source": []
  }
 ],
 "metadata": {
  "kernelspec": {
   "display_name": "Python 3 (ipykernel)",
   "language": "python",
   "name": "python3"
  },
  "language_info": {
   "codemirror_mode": {
    "name": "ipython",
    "version": 3
   },
   "file_extension": ".py",
   "mimetype": "text/x-python",
   "name": "python",
   "nbconvert_exporter": "python",
   "pygments_lexer": "ipython3",
   "version": "3.9.12"
  }
 },
 "nbformat": 4,
 "nbformat_minor": 5
}
