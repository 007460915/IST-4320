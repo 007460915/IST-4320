{
 "cells": [
  {
   "cell_type": "code",
   "execution_count": 9,
   "id": "3c6299dc-25e9-4942-afe6-c34d23d9b50e",
   "metadata": {},
   "outputs": [
    {
     "name": "stdout",
     "output_type": "stream",
     "text": [
      "The minimum number in the list is 1\n",
      "The maximum number in the list is 423\n",
      "The sum of all numbers in the list is 851\n",
      "The average of the number list is 85.1\n"
     ]
    }
   ],
   "source": [
    "\n",
    "number_list = [1,4,6,8,9,13,300,423,55,32]\n",
    "\n",
    "minimum = min(number_list)\n",
    "print(\"The minimum number in the list is\", minimum)\n",
    "\n",
    "\n",
    "maximum = max(number_list)\n",
    "print(\"The maximum number in the list is\", maximum)\n",
    "\n",
    "total = sum(number_list)\n",
    "print(\"The sum of all numbers in the list is\", total)\n",
    "\n",
    "def cal_average(number_list):\n",
    "    sum_num = 0\n",
    "    for t in number_list:\n",
    "        sum_num = sum_num + t           \n",
    "\n",
    "    avg = sum_num / len(number_list)\n",
    "    return avg\n",
    "\n",
    "print(\"The average of the number list is\", cal_average([1,4,6,8,9,13,300,423,55,32]))"
   ]
  },
  {
   "cell_type": "code",
   "execution_count": null,
   "id": "4d2ec915-8a28-49df-a3b1-adb5afb5bfa9",
   "metadata": {},
   "outputs": [],
   "source": []
  }
 ],
 "metadata": {
  "kernelspec": {
   "display_name": "Python 3 (ipykernel)",
   "language": "python",
   "name": "python3"
  },
  "language_info": {
   "codemirror_mode": {
    "name": "ipython",
    "version": 3
   },
   "file_extension": ".py",
   "mimetype": "text/x-python",
   "name": "python",
   "nbconvert_exporter": "python",
   "pygments_lexer": "ipython3",
   "version": "3.9.12"
  }
 },
 "nbformat": 4,
 "nbformat_minor": 5
}
